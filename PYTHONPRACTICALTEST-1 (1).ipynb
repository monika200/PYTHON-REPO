{
 "cells": [
  {
   "cell_type": "code",
   "execution_count": 9,
   "metadata": {},
   "outputs": [
    {
     "name": "stdout",
     "output_type": "stream",
     "text": [
      "Enter a number:75869\n",
      "Total number of digits:  5\n"
     ]
    }
   ],
   "source": [
    "#1. Given a number count the total number of digits in a number\n",
    "n = int(input(\"Enter a number:\"))\n",
    "count = 0\n",
    "while n!= 0:\n",
    "    n//= 10\n",
    "    count+= 1\n",
    "print(\"Total number of digits: \", count)"
   ]
  },
  {
   "cell_type": "code",
   "execution_count": 8,
   "metadata": {},
   "outputs": [
    {
     "name": "stdout",
     "output_type": "stream",
     "text": [
      "Enter number of elements : 5\n",
      "10\n",
      "20\n",
      "30\n",
      "40\n",
      "50\n",
      "Original list: [10, 20, 30, 40, 50]\n",
      "50\n",
      "40\n",
      "30\n",
      "20\n",
      "10\n"
     ]
    }
   ],
   "source": [
    "#Reverse the following list using for loop\n",
    "list1 = [] \n",
    "n = int(input(\"Enter number of elements : \"))  \n",
    "for i in range(0, n): \n",
    "    ele = int(input()) \n",
    "    list1.append(ele)\n",
    "print(\"Original list:\",list1)\n",
    "for i in range(len(list1) - 1, -1, -1) :\n",
    "    print(list1[i])"
   ]
  },
  {
   "cell_type": "code",
   "execution_count": 8,
   "metadata": {},
   "outputs": [
    {
     "name": "stdout",
     "output_type": "stream",
     "text": [
      "Original Strings: Chrisdem IamNewString\n",
      "After appending s2: ChrIamNewStringisdem\n"
     ]
    }
   ],
   "source": [
    "#3.Given 2 strings, s1 and s2, create a new string by appending s2 in the middle of s1\n",
    "def appendMiddle(s1,s2):\n",
    "    middleIndex = int(len(s1)/2)\n",
    "    print(\"Original Strings:\",s1, s2)\n",
    "    middleThree = s1[:middleIndex-1:]+ s2 +s1[middleIndex-1:]\n",
    "    print(\"After appending s2:\",middleThree)\n",
    "appendMiddle(\"Chrisdem\",\"IamNewString\")"
   ]
  },
  {
   "cell_type": "code",
   "execution_count": 2,
   "metadata": {},
   "outputs": [
    {
     "name": "stdout",
     "output_type": "stream",
     "text": [
      "Enter a string:\"PyNaTive\"\n",
      "arranging characters giving precedence to lowercase letters: yaive\"PNT\"\n"
     ]
    }
   ],
   "source": [
    "#4.Arrange String characters such that lowercase letters should come first\n",
    "inputStr = input(\"Enter a string:\")\n",
    "words = inputStr.split()\n",
    "lower = []\n",
    "upper = []\n",
    "for char in inputStr:\n",
    "    if char.islower():\n",
    "        lower.append(char)\n",
    "    else:\n",
    "        upper.append(char)\n",
    "sortedString = \"\".join(lower + upper)\n",
    "print(\"arranging characters giving precedence to lowercase letters:\",sortedString)"
   ]
  },
  {
   "cell_type": "code",
   "execution_count": 1,
   "metadata": {},
   "outputs": [
    {
     "name": "stdout",
     "output_type": "stream",
     "text": [
      "Enter number of elements in listOne:7\n",
      "3\n",
      "6\n",
      "9\n",
      "12\n",
      "15\n",
      "18\n",
      "21\n",
      "[3, 6, 9, 12, 15, 18, 21]\n",
      "Enter number of elements in listTwo:7\n",
      "4\n",
      "8\n",
      "12\n",
      "16\n",
      "20\n",
      "24\n",
      "28\n",
      "[4, 8, 12, 16, 20, 24, 28]\n",
      "Odd-index element from list one [6, 12, 18]\n",
      "Even-index element from list two [4, 12, 20, 28]\n",
      "Third list\n",
      "[6, 12, 18, 4, 12, 20, 28]\n"
     ]
    }
   ],
   "source": [
    "#Question 1: Given a two list. Create a third list by picking an odd-index element from the first list and even index \n",
    "#elements from second.\n",
    "listOne = []\n",
    "n = int(input(\"Enter number of elements in listOne:\"))\n",
    "for i in range(0, n): \n",
    "    ele = int(input()) \n",
    "    listOne.append(ele)\n",
    "print(listOne)\n",
    "listTwo = []\n",
    "x = int(input(\"Enter number of elements in listTwo:\"))  \n",
    "for i in range(0, x): \n",
    "    ele = int(input()) \n",
    "    listTwo.append(ele)\n",
    "print(listTwo)\n",
    "listThree = list()\n",
    "\n",
    "oddElements = listOne[1::2]\n",
    "print(\"Odd-index element from list one\",oddElements)\n",
    "\n",
    "\n",
    "EvenElements = listTwo[0::2]\n",
    "print(\"Even-index element from list two\",EvenElements)\n",
    "\n",
    "print(\"Third list\")\n",
    "listThree.extend(oddElements)\n",
    "listThree.extend(EvenElements)\n",
    "print(listThree)"
   ]
  }
 ],
 "metadata": {
  "kernelspec": {
   "display_name": "Python 3",
   "language": "python",
   "name": "python3"
  },
  "language_info": {
   "codemirror_mode": {
    "name": "ipython",
    "version": 3
   },
   "file_extension": ".py",
   "mimetype": "text/x-python",
   "name": "python",
   "nbconvert_exporter": "python",
   "pygments_lexer": "ipython3",
   "version": "3.7.6"
  }
 },
 "nbformat": 4,
 "nbformat_minor": 4
}
